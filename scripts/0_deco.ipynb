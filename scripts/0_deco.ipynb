{
 "cells": [
  {
   "cell_type": "code",
   "execution_count": 1,
   "metadata": {},
   "outputs": [],
   "source": [
    "import decotengu\n",
    "\n",
    "engine = decotengu.create()\n",
    "engine.add_gas(0,21)\n",
    "profile = engine.calculate(35,40)"
   ]
  },
  {
   "cell_type": "code",
   "execution_count": 2,
   "metadata": {},
   "outputs": [
    {
     "name": "stdout",
     "output_type": "stream",
     "text": [
      "Step(phase=\"start\", abs_p=1.0132, time=0.0000, gf=0.3000)\n",
      "Step(phase=\"descent\", abs_p=4.5080, time=1.7500, gf=0.3000)\n",
      "Step(phase=\"const\", abs_p=4.5080, time=40.0000, gf=0.3000)\n",
      "Step(phase=\"ascent\", abs_p=2.8106, time=41.7000, gf=0.3000)\n",
      "Step(phase=\"deco_stop\", abs_p=2.8106, time=42.7000, gf=0.3000)\n",
      "Step(phase=\"ascent\", abs_p=2.5110, time=43.0000, gf=0.3917)\n",
      "Step(phase=\"deco_stop\", abs_p=2.5110, time=44.0000, gf=0.3917)\n",
      "Step(phase=\"ascent\", abs_p=2.2115, time=44.3000, gf=0.4833)\n",
      "Step(phase=\"deco_stop\", abs_p=2.2115, time=48.3000, gf=0.4833)\n",
      "Step(phase=\"ascent\", abs_p=1.9119, time=48.6000, gf=0.5750)\n",
      "Step(phase=\"deco_stop\", abs_p=1.9119, time=54.6000, gf=0.5750)\n",
      "Step(phase=\"ascent\", abs_p=1.6124, time=54.9000, gf=0.6667)\n",
      "Step(phase=\"deco_stop\", abs_p=1.6124, time=64.9000, gf=0.6667)\n",
      "Step(phase=\"ascent\", abs_p=1.3128, time=65.2000, gf=0.7583)\n",
      "Step(phase=\"deco_stop\", abs_p=1.3128, time=87.2000, gf=0.7583)\n",
      "Step(phase=\"ascent\", abs_p=1.0133, time=87.5000, gf=0.8500)\n"
     ]
    }
   ],
   "source": [
    "for step in profile:\n",
    "    print(step)"
   ]
  },
  {
   "cell_type": "code",
   "execution_count": 3,
   "metadata": {},
   "outputs": [
    {
     "name": "stdout",
     "output_type": "stream",
     "text": [
      "DecoStop(depth=18.0, time=1.0)\n",
      "DecoStop(depth=15.0, time=1.0)\n",
      "DecoStop(depth=12.0, time=4.0)\n",
      "DecoStop(depth=9.0, time=6.0)\n",
      "DecoStop(depth=6.0, time=10.0)\n",
      "DecoStop(depth=3.0, time=22.0)\n"
     ]
    }
   ],
   "source": [
    "for stop in engine.deco_table:\n",
    "    print(stop)"
   ]
  },
  {
   "cell_type": "code",
   "execution_count": 4,
   "metadata": {},
   "outputs": [
    {
     "data": {
      "text/plain": [
       "44.0"
      ]
     },
     "execution_count": 4,
     "metadata": {},
     "output_type": "execute_result"
    }
   ],
   "source": [
    "engine.deco_table.total"
   ]
  },
  {
   "cell_type": "code",
   "execution_count": null,
   "metadata": {},
   "outputs": [],
   "source": []
  }
 ],
 "metadata": {
  "interpreter": {
   "hash": "ecf5722fdaf1897a315d257d89d94520bfcaa453217d5becf09b39e73618b0de"
  },
  "kernelspec": {
   "display_name": "Python 3.9.5 ('base')",
   "language": "python",
   "name": "python3"
  },
  "language_info": {
   "codemirror_mode": {
    "name": "ipython",
    "version": 3
   },
   "file_extension": ".py",
   "mimetype": "text/x-python",
   "name": "python",
   "nbconvert_exporter": "python",
   "pygments_lexer": "ipython3",
   "version": "3.9.5"
  },
  "orig_nbformat": 4
 },
 "nbformat": 4,
 "nbformat_minor": 2
}
