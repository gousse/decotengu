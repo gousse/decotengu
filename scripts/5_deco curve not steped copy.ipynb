{
 "cells": [
  {
   "cell_type": "code",
   "execution_count": 1,
   "metadata": {},
   "outputs": [],
   "source": [
    "import decotengu\n",
    "\n",
    "engine = decotengu.Engine()\n",
    "engine.add_gas(0,21)"
   ]
  },
  {
   "cell_type": "code",
   "execution_count": 2,
   "metadata": {},
   "outputs": [
    {
     "name": "stdout",
     "output_type": "stream",
     "text": [
      "default model is  <decotengu.model.ZH_L16B_GF object at 0x000001F340727CA0>\n"
     ]
    }
   ],
   "source": [
    "print(\"default model is \",engine.model)\n",
    "# model :\n",
    "# decotengu.ZH_L16B_GF  default is B\n",
    "## engine.model=decotengu.ZH_L16B_GF()\n",
    "\n",
    "# use C Model ZH_L16C_GF\n",
    "# engine.model=decotengu.ZH_L16C_GF()\n",
    "\n",
    "engine.model.gf_low=0.8\n",
    "engine.model.gf_high=0.85"
   ]
  },
  {
   "cell_type": "code",
   "execution_count": 3,
   "metadata": {},
   "outputs": [],
   "source": [
    "depth = 35 # depth in m\n",
    "bottom_time = 40  # time in min\n",
    "profile = list(engine.calculate(depth,bottom_time))\n"
   ]
  },
  {
   "cell_type": "code",
   "execution_count": 4,
   "metadata": {},
   "outputs": [
    {
     "name": "stdout",
     "output_type": "stream",
     "text": [
      "[Step(phase=\"start\", abs_p=1.0132, time=0.0000, gf=0.8000), Step(phase=\"descent\", abs_p=4.5080, time=1.7500, gf=0.8000), Step(phase=\"const\", abs_p=4.5080, time=40.0000, gf=0.8000), Step(phase=\"ascent\", abs_p=1.9119, time=42.6000, gf=0.8000), Step(phase=\"deco_stop\", abs_p=1.9119, time=48.6000, gf=0.8000), Step(phase=\"ascent\", abs_p=1.6123, time=48.9000, gf=0.8167), Step(phase=\"deco_stop\", abs_p=1.6123, time=57.9000, gf=0.8167), Step(phase=\"ascent\", abs_p=1.3128, time=58.2000, gf=0.8333), Step(phase=\"deco_stop\", abs_p=1.3128, time=81.2000, gf=0.8333), Step(phase=\"ascent\", abs_p=1.0132, time=81.5000, gf=0.8500)]\n"
     ]
    }
   ],
   "source": [
    "print(profile)"
   ]
  },
  {
   "cell_type": "code",
   "execution_count": 5,
   "metadata": {},
   "outputs": [
    {
     "name": "stdout",
     "output_type": "stream",
     "text": [
      "Step(phase=\"start\", abs_p=1.0132, time=0.0000, gf=0.8000)\n",
      "Step(phase=\"descent\", abs_p=4.5080, time=1.7500, gf=0.8000)\n",
      "Step(phase=\"const\", abs_p=4.5080, time=40.0000, gf=0.8000)\n",
      "Step(phase=\"ascent\", abs_p=1.9119, time=42.6000, gf=0.8000)\n",
      "Step(phase=\"deco_stop\", abs_p=1.9119, time=48.6000, gf=0.8000)\n",
      "Step(phase=\"ascent\", abs_p=1.6123, time=48.9000, gf=0.8167)\n",
      "Step(phase=\"deco_stop\", abs_p=1.6123, time=57.9000, gf=0.8167)\n",
      "Step(phase=\"ascent\", abs_p=1.3128, time=58.2000, gf=0.8333)\n",
      "Step(phase=\"deco_stop\", abs_p=1.3128, time=81.2000, gf=0.8333)\n",
      "Step(phase=\"ascent\", abs_p=1.0132, time=81.5000, gf=0.8500)\n"
     ]
    }
   ],
   "source": [
    "for step in profile:\n",
    "    print(step)"
   ]
  },
  {
   "cell_type": "code",
   "execution_count": 6,
   "metadata": {},
   "outputs": [
    {
     "data": {
      "text/plain": [
       "Data(tissues=((0.75112461, 0.0), (0.75112461, 0.0), (0.75112461, 0.0), (0.75112461, 0.0), (0.75112461, 0.0), (0.75112461, 0.0), (0.75112461, 0.0), (0.75112461, 0.0), (0.75112461, 0.0), (0.75112461, 0.0), (0.75112461, 0.0), (0.75112461, 0.0), (0.75112461, 0.0), (0.75112461, 0.0), (0.75112461, 0.0), (0.75112461, 0.0)), gf=0.8)"
      ]
     },
     "execution_count": 6,
     "metadata": {},
     "output_type": "execute_result"
    }
   ],
   "source": [
    "profile[0].data"
   ]
  },
  {
   "cell_type": "code",
   "execution_count": 7,
   "metadata": {},
   "outputs": [],
   "source": [
    "def profile_curve(profile):\n",
    "    curve=list()\n",
    "    for step in profile:\n",
    "        curve.append((step.time, -engine._to_depth(step.abs_p)))\n",
    "    return curve"
   ]
  },
  {
   "cell_type": "code",
   "execution_count": 8,
   "metadata": {},
   "outputs": [
    {
     "name": "stdout",
     "output_type": "stream",
     "text": [
      "DecoStop(depth=9.0, time=6.0) 9.0 6.0\n",
      "DecoStop(depth=6.0, time=9.0) 6.0 9.0\n",
      "DecoStop(depth=3.0, time=23.0) 3.0 23.0\n"
     ]
    }
   ],
   "source": [
    "for stop in engine.deco_table:\n",
    "    print(stop,stop.depth,stop.time)"
   ]
  },
  {
   "cell_type": "code",
   "execution_count": 9,
   "metadata": {},
   "outputs": [
    {
     "name": "stdout",
     "output_type": "stream",
     "text": [
      "(0, -0.0)\n",
      "(1.75, -35.0)\n",
      "(40.0, -35.0)\n",
      "(42.599999999999994, -9.0)\n",
      "(48.599999999999994, -9.0)\n",
      "(48.89999999999999, -6.0)\n",
      "(57.89999999999999, -6.0)\n",
      "(58.19999999999999, -3.0)\n",
      "(81.19999999999999, -3.0)\n",
      "(81.49999999999999, -0.0)\n"
     ]
    }
   ],
   "source": [
    "curve = profile_curve(profile)\n",
    "for point in curve:\n",
    "    print(point)"
   ]
  },
  {
   "cell_type": "code",
   "execution_count": 10,
   "metadata": {},
   "outputs": [
    {
     "data": {
      "text/html": [
       "<div>\n",
       "<style scoped>\n",
       "    .dataframe tbody tr th:only-of-type {\n",
       "        vertical-align: middle;\n",
       "    }\n",
       "\n",
       "    .dataframe tbody tr th {\n",
       "        vertical-align: top;\n",
       "    }\n",
       "\n",
       "    .dataframe thead th {\n",
       "        text-align: right;\n",
       "    }\n",
       "</style>\n",
       "<table border=\"1\" class=\"dataframe\">\n",
       "  <thead>\n",
       "    <tr style=\"text-align: right;\">\n",
       "      <th></th>\n",
       "      <th>time</th>\n",
       "      <th>depth</th>\n",
       "    </tr>\n",
       "  </thead>\n",
       "  <tbody>\n",
       "    <tr>\n",
       "      <th>0</th>\n",
       "      <td>0.00</td>\n",
       "      <td>-0.0</td>\n",
       "    </tr>\n",
       "    <tr>\n",
       "      <th>1</th>\n",
       "      <td>1.75</td>\n",
       "      <td>-35.0</td>\n",
       "    </tr>\n",
       "    <tr>\n",
       "      <th>2</th>\n",
       "      <td>40.00</td>\n",
       "      <td>-35.0</td>\n",
       "    </tr>\n",
       "    <tr>\n",
       "      <th>3</th>\n",
       "      <td>42.60</td>\n",
       "      <td>-9.0</td>\n",
       "    </tr>\n",
       "    <tr>\n",
       "      <th>4</th>\n",
       "      <td>48.60</td>\n",
       "      <td>-9.0</td>\n",
       "    </tr>\n",
       "  </tbody>\n",
       "</table>\n",
       "</div>"
      ],
      "text/plain": [
       "    time  depth\n",
       "0   0.00   -0.0\n",
       "1   1.75  -35.0\n",
       "2  40.00  -35.0\n",
       "3  42.60   -9.0\n",
       "4  48.60   -9.0"
      ]
     },
     "execution_count": 10,
     "metadata": {},
     "output_type": "execute_result"
    }
   ],
   "source": [
    "import pandas as pd\n",
    "import matplotlib.pyplot as plt\n",
    "\n",
    "df = pd.DataFrame(curve, columns=['time','depth'])\n",
    "df.head()"
   ]
  },
  {
   "cell_type": "code",
   "execution_count": 11,
   "metadata": {},
   "outputs": [
    {
     "data": {
      "image/png": "[encoded data removed]",
      "text/plain": [
       "<Figure size 1008x576 with 1 Axes>"
      ]
     },
     "metadata": {
      "needs_background": "light"
     },
     "output_type": "display_data"
    }
   ],
   "source": [
    "df.plot(kind='line', x='time', y='depth', figsize=(14,8))\n",
    "plt.title('Dive Profile')\n",
    "plt.ylabel('Depth')\n",
    "plt.xlabel('Time')\n",
    "plt.show()"
   ]
  },
  {
   "cell_type": "code",
   "execution_count": 25,
   "metadata": {},
   "outputs": [
    {
     "name": "stdout",
     "output_type": "stream",
     "text": [
      "DecoStop(depth=9.0, time=6.0) 46.0 -8.5\n",
      "48.599999999999994\n",
      "DecoStop(depth=6.0, time=9.0) 49.0 -5.5\n",
      "57.89999999999999\n",
      "DecoStop(depth=3.0, time=23.0) 63.0 -2.5\n",
      "81.19999999999999\n"
     ]
    },
    {
     "data": {
      "image/png": "[encoded data removed]",
      "text/plain": [
       "<Figure size 1008x576 with 1 Axes>"
      ]
     },
     "metadata": {
      "needs_background": "light"
     },
     "output_type": "display_data"
    }
   ],
   "source": [
    "df.plot(kind='line', x='time', y='depth', figsize=(14,8))\n",
    "plt.title('Dive Profile')\n",
    "plt.ylabel('Depth')\n",
    "plt.xlabel('Time')\n",
    "\n",
    "i=4\n",
    "for stop in engine.deco_table:\n",
    "# Annotate Text\n",
    "    plt.annotate(stop,  # text to display\n",
    "             xy=(profile[i].time-0.5, -stop.depth+0.5),  # start the text at at point (time , depth)\n",
    "             rotation=0,  \n",
    "             va='bottom',  # want the text to be vertically 'bottom' aligned\n",
    "             ha='right',  # want the text to be horizontally 'left' algned.\n",
    "             )\n",
    "    i+=2\n",
    "plt.show()"
   ]
  },
  {
   "cell_type": "code",
   "execution_count": null,
   "metadata": {},
   "outputs": [],
   "source": []
  }
 ],
 "metadata": {
  "interpreter": {
   "hash": "ecf5722fdaf1897a315d257d89d94520bfcaa453217d5becf09b39e73618b0de"
  },
  "kernelspec": {
   "display_name": "Python 3.9.5 ('base')",
   "language": "python",
   "name": "python3"
  },
  "language_info": {
   "codemirror_mode": {
    "name": "ipython",
    "version": 3
   },
   "file_extension": ".py",
   "mimetype": "text/x-python",
   "name": "python",
   "nbconvert_exporter": "python",
   "pygments_lexer": "ipython3",
   "version": "3.9.5"
  },
  "orig_nbformat": 4
 },
 "nbformat": 4,
 "nbformat_minor": 2
}
