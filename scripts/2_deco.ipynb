{
 "cells": [
  {
   "cell_type": "code",
   "execution_count": 1,
   "metadata": {},
   "outputs": [],
   "source": [
    "import decotengu\n",
    "\n",
    "engine = decotengu.create()\n",
    "engine.add_gas(0,21)\n"
   ]
  },
  {
   "cell_type": "code",
   "execution_count": 2,
   "metadata": {},
   "outputs": [
    {
     "name": "stdout",
     "output_type": "stream",
     "text": [
      "default model is  <decotengu.model.ZH_L16B_GF object at 0x000001B7C9861F70>\n"
     ]
    }
   ],
   "source": [
    "print(\"default model is \",engine.model)\n",
    "# model :\n",
    "# decotengu.ZH_L16B_GF  default is B\n",
    "## engine.model=decotengu.ZH_L16B_GF()\n",
    "\n",
    "# use C Model ZH_L16C_GF\n",
    "# engine.model=decotengu.ZH_L16C_GF()\n",
    "\n",
    "engine.model.gf_low=0.8\n",
    "engine.model.gf_high=0.85"
   ]
  },
  {
   "cell_type": "code",
   "execution_count": 3,
   "metadata": {},
   "outputs": [],
   "source": [
    "profile = list(engine.calculate(35,40))"
   ]
  },
  {
   "cell_type": "code",
   "execution_count": 4,
   "metadata": {},
   "outputs": [
    {
     "name": "stdout",
     "output_type": "stream",
     "text": [
      "[Step(phase=\"start\", abs_p=1.0132, time=0.0000, gf=0.8000), Step(phase=\"descent\", abs_p=4.5080, time=1.7500, gf=0.8000), Step(phase=\"const\", abs_p=4.5080, time=40.0000, gf=0.8000), Step(phase=\"ascent\", abs_p=1.9119, time=42.6000, gf=0.8000), Step(phase=\"deco_stop\", abs_p=1.9119, time=48.6000, gf=0.8000), Step(phase=\"ascent\", abs_p=1.6123, time=48.9000, gf=0.8167), Step(phase=\"deco_stop\", abs_p=1.6123, time=57.9000, gf=0.8167), Step(phase=\"ascent\", abs_p=1.3128, time=58.2000, gf=0.8333), Step(phase=\"deco_stop\", abs_p=1.3128, time=81.2000, gf=0.8333), Step(phase=\"ascent\", abs_p=1.0132, time=81.5000, gf=0.8500)]\n"
     ]
    }
   ],
   "source": [
    "print(profile)"
   ]
  },
  {
   "cell_type": "code",
   "execution_count": 5,
   "metadata": {},
   "outputs": [
    {
     "name": "stdout",
     "output_type": "stream",
     "text": [
      "Step(phase=\"start\", abs_p=1.0132, time=0.0000, gf=0.8000)\n",
      "Step(phase=\"descent\", abs_p=4.5080, time=1.7500, gf=0.8000)\n",
      "Step(phase=\"const\", abs_p=4.5080, time=40.0000, gf=0.8000)\n",
      "Step(phase=\"ascent\", abs_p=1.9119, time=42.6000, gf=0.8000)\n",
      "Step(phase=\"deco_stop\", abs_p=1.9119, time=48.6000, gf=0.8000)\n",
      "Step(phase=\"ascent\", abs_p=1.6123, time=48.9000, gf=0.8167)\n",
      "Step(phase=\"deco_stop\", abs_p=1.6123, time=57.9000, gf=0.8167)\n",
      "Step(phase=\"ascent\", abs_p=1.3128, time=58.2000, gf=0.8333)\n",
      "Step(phase=\"deco_stop\", abs_p=1.3128, time=81.2000, gf=0.8333)\n",
      "Step(phase=\"ascent\", abs_p=1.0132, time=81.5000, gf=0.8500)\n"
     ]
    }
   ],
   "source": [
    "for step in profile:\n",
    "    print(step)"
   ]
  },
  {
   "cell_type": "code",
   "execution_count": 6,
   "metadata": {},
   "outputs": [
    {
     "data": {
      "text/plain": [
       "Data(tissues=((0.75112461, 0.0), (0.75112461, 0.0), (0.75112461, 0.0), (0.75112461, 0.0), (0.75112461, 0.0), (0.75112461, 0.0), (0.75112461, 0.0), (0.75112461, 0.0), (0.75112461, 0.0), (0.75112461, 0.0), (0.75112461, 0.0), (0.75112461, 0.0), (0.75112461, 0.0), (0.75112461, 0.0), (0.75112461, 0.0), (0.75112461, 0.0)), gf=0.8)"
      ]
     },
     "execution_count": 6,
     "metadata": {},
     "output_type": "execute_result"
    }
   ],
   "source": [
    "profile[0].data"
   ]
  },
  {
   "cell_type": "code",
   "execution_count": 7,
   "metadata": {},
   "outputs": [
    {
     "name": "stdout",
     "output_type": "stream",
     "text": [
      "0 time  0.00 phase start abs_p 1.01325 depth 0.0\n",
      "1 time  1.75 phase descent abs_p 4.508 depth 35.0\n",
      "2 time 40.00 phase const abs_p 4.508 depth 35.0\n",
      "3 time 42.60 phase ascent abs_p 1.9119 depth 9.0\n",
      "4 time 48.60 phase deco_stop abs_p 1.9119 depth 9.0\n",
      "5 time 48.90 phase ascent abs_p 1.61235 depth 6.0\n",
      "6 time 57.90 phase deco_stop abs_p 1.61235 depth 6.0\n",
      "7 time 58.20 phase ascent abs_p 1.3128 depth 3.0\n",
      "8 time 81.20 phase deco_stop abs_p 1.3128 depth 3.0\n",
      "9 time 81.50 phase ascent abs_p 1.01325 depth 0.0\n"
     ]
    }
   ],
   "source": [
    "i=0\n",
    "for step in profile:\n",
    "    print(i,\"time\",\"{:5.2f}\".format(step.time),\"phase\",step.phase, \"abs_p\", step.abs_p,\"depth\", engine._to_depth(step.abs_p))\n",
    "    i+=1"
   ]
  },
  {
   "cell_type": "code",
   "execution_count": 8,
   "metadata": {},
   "outputs": [
    {
     "name": "stdout",
     "output_type": "stream",
     "text": [
      "DecoStop(depth=9.0, time=6.0)\n",
      "DecoStop(depth=6.0, time=9.0)\n",
      "DecoStop(depth=3.0, time=23.0)\n"
     ]
    }
   ],
   "source": [
    "for stop in engine.deco_table:\n",
    "    print(stop)"
   ]
  },
  {
   "cell_type": "code",
   "execution_count": 9,
   "metadata": {},
   "outputs": [
    {
     "name": "stdout",
     "output_type": "stream",
     "text": [
      "time 48.60 phase deco_stop abs_p 1.9119 depth 9.0\n"
     ]
    },
    {
     "data": {
      "text/plain": [
       "{'phase': 'deco_stop',\n",
       " 'abs_p': 1.9119,\n",
       " 'time': 48.599999999999994,\n",
       " 'gas': GasMix(depth=0, o2=21, n2=79, he=0),\n",
       " 'data': Data(tissues=((2.2067002915991676, 0.0), (2.508534121855642, 0.0), (2.634427126379558, 0.0), (2.559759378480307, 0.0), (2.350742682485412, 0.0), (2.094212218971725, 0.0), (1.8281745542968197, 0.0), (1.5848448050006023, 0.0), (1.3807435942995339, 0.0), (1.240973870539721, 0.0), (1.1439824747099459, 0.0), (1.0650052535408674, 0.0), (1.0011378416412196, 0.0), (0.9491955924129899, 0.0), (0.9078151995558204, 0.0), (0.8749823550285621, 0.0)), gf=0.8)}"
      ]
     },
     "execution_count": 9,
     "metadata": {},
     "output_type": "execute_result"
    }
   ],
   "source": [
    "step = profile[4]\n",
    "print(\"time\",\"{:5.2f}\".format(step.time),\"phase\",step.phase, \"abs_p\", step.abs_p,\"depth\", engine._to_depth(step.abs_p))\n",
    "step._asdict()"
   ]
  },
  {
   "cell_type": "code",
   "execution_count": 10,
   "metadata": {},
   "outputs": [
    {
     "data": {
      "text/plain": [
       "[DecoStop(depth=9.0, time=6.0),\n",
       " DecoStop(depth=6.0, time=9.0),\n",
       " DecoStop(depth=3.0, time=23.0)]"
      ]
     },
     "execution_count": 10,
     "metadata": {},
     "output_type": "execute_result"
    }
   ],
   "source": [
    "engine.deco_table"
   ]
  },
  {
   "cell_type": "code",
   "execution_count": 11,
   "metadata": {},
   "outputs": [
    {
     "data": {
      "text/plain": [
       "38.0"
      ]
     },
     "execution_count": 11,
     "metadata": {},
     "output_type": "execute_result"
    }
   ],
   "source": [
    "engine.deco_table.total"
   ]
  },
  {
   "cell_type": "code",
   "execution_count": 12,
   "metadata": {},
   "outputs": [
    {
     "name": "stdout",
     "output_type": "stream",
     "text": [
      "0 time  0.00 phase start abs_p 1.01325 depth 0.0\n",
      "1 time  1.75 phase descent abs_p 4.508 depth 35.0\n",
      "2 time 40.00 phase const abs_p 4.508 depth 35.0\n",
      "3 time 42.60 phase ascent abs_p 1.9119 depth 9.0\n",
      "4 time 48.60 phase deco_stop abs_p 1.9119 depth 9.0\n",
      "4 deco stop 48.599999999999994 48.599999999999994 42.599999999999994 6.0\n",
      "5 time 48.90 phase ascent abs_p 1.61235 depth 6.0\n",
      "6 time 57.90 phase deco_stop abs_p 1.61235 depth 6.0\n",
      "6 deco stop 57.89999999999999 57.89999999999999 48.89999999999999 9.0\n",
      "7 time 58.20 phase ascent abs_p 1.3128 depth 3.0\n",
      "8 time 81.20 phase deco_stop abs_p 1.3128 depth 3.0\n",
      "8 deco stop 81.19999999999999 81.19999999999999 58.19999999999999 23.0\n",
      "9 time 81.50 phase ascent abs_p 1.01325 depth 0.0\n"
     ]
    }
   ],
   "source": [
    "i=0\n",
    "for step in profile:\n",
    "    print(i,\"time\",\"{:5.2f}\".format(step.time),\"phase\",step.phase, \"abs_p\", step.abs_p,\"depth\", engine._to_depth(step.abs_p))\n",
    "    if step.phase == \"deco_stop\":\n",
    "        print(i,\"deco stop\",step.time, profile[i].time, profile[i-1].time, profile[i].time - profile[i-1].time)\n",
    "    i+=1"
   ]
  },
  {
   "cell_type": "code",
   "execution_count": 13,
   "metadata": {},
   "outputs": [
    {
     "name": "stdout",
     "output_type": "stream",
     "text": [
      "0 time  0.00 phase start abs_p 1.01325 depth 0.0 gas GasMix(depth=0, o2=21, n2=79, he=0) gf 0.8\n",
      "1 time  1.75 phase descent abs_p 4.508 depth 35.0 gas GasMix(depth=0, o2=21, n2=79, he=0) gf 0.8\n",
      "2 time 40.00 phase const abs_p 4.508 depth 35.0 gas GasMix(depth=0, o2=21, n2=79, he=0) gf 0.8\n",
      "3 time 42.60 phase ascent abs_p 1.9119 depth 9.0 gas GasMix(depth=0, o2=21, n2=79, he=0) gf 0.8\n",
      "4 time 48.60 phase deco_stop abs_p 1.9119 depth 9.0 gas GasMix(depth=0, o2=21, n2=79, he=0) gf 0.8\n",
      "4 deco stop 48.599999999999994 48.599999999999994 42.599999999999994 6.0\n",
      "4 deco Data(tissues=((2.2067002915991676, 0.0), (2.508534121855642, 0.0), (2.634427126379558, 0.0), (2.559759378480307, 0.0), (2.350742682485412, 0.0), (2.094212218971725, 0.0), (1.8281745542968197, 0.0), (1.5848448050006023, 0.0), (1.3807435942995339, 0.0), (1.240973870539721, 0.0), (1.1439824747099459, 0.0), (1.0650052535408674, 0.0), (1.0011378416412196, 0.0), (0.9491955924129899, 0.0), (0.9078151995558204, 0.0), (0.8749823550285621, 0.0)), gf=0.8)\n",
      "5 time 48.90 phase ascent abs_p 1.61235 depth 6.0 gas GasMix(depth=0, o2=21, n2=79, he=0) gf 0.8166666666666667\n",
      "6 time 57.90 phase deco_stop abs_p 1.61235 depth 6.0 gas GasMix(depth=0, o2=21, n2=79, he=0) gf 0.8166666666666667\n",
      "6 deco stop 57.89999999999999 57.89999999999999 48.89999999999999 9.0\n",
      "6 deco Data(tissues=((1.4962471269965891, 0.0), (1.7993594553828216, 0.0), (2.0674119404264157, 0.0), (2.16776468034207, 0.0), (2.1122022160564193, 0.0), (1.9599878090429206, 0.0), (1.7609712685833703, 0.0), (1.5561777293496917, 0.0), (1.3719682860737974, 0.0), (1.240411709818405, 0.0), (1.1468285757145664, 0.0), (1.0693425019726945, 0.0), (1.0058823495742262, 0.0), (0.9537662014386614, 0.0), (0.9119332721163844, 0.0), (0.8785481381191103, 0.0)), gf=0.8166666666666667)\n",
      "7 time 58.20 phase ascent abs_p 1.3128 depth 3.0 gas GasMix(depth=0, o2=21, n2=79, he=0) gf 0.8333333333333333\n",
      "8 time 81.20 phase deco_stop abs_p 1.3128 depth 3.0 gas GasMix(depth=0, o2=21, n2=79, he=0) gf 0.8333333333333333\n",
      "8 deco stop 81.19999999999999 81.19999999999999 58.19999999999999 23.0\n",
      "8 deco Data(tissues=((1.0078966853095084, 0.0), (1.0958084133802117, 0.0), (1.2847674896091736, 0.0), (1.4811006842323076, 0.0), (1.6064241269721895, 0.0), (1.6258470296901653, 0.0), (1.5623346821218476, 0.0), (1.4488532417178424, 0.0), (1.3192273055428603, 0.0), (1.2140860308368016, 0.0), (1.133772840105892, 0.0), (1.064096159134971, 0.0), (1.005014892978655, 0.0), (0.9551983701253114, 0.0), (0.914394975516301, 0.0), (0.8813239953041636, 0.0)), gf=0.8333333333333333)\n",
      "9 time 81.50 phase ascent abs_p 1.01325 depth 0.0 gas GasMix(depth=0, o2=21, n2=79, he=0) gf 0.8499999999999999\n"
     ]
    }
   ],
   "source": [
    "i=0\n",
    "for step in profile:\n",
    "    print(i,\"time\",\"{:5.2f}\".format(step.time),\"phase\",step.phase, \"abs_p\", step.abs_p,\"depth\", engine._to_depth(step.abs_p),\"gas\",step.gas,\"gf\",step.data.gf)\n",
    "    if step.phase == \"deco_stop\":\n",
    "        print(i,\"deco stop\",step.time, profile[i].time, profile[i-1].time, profile[i].time - profile[i-1].time)\n",
    "        print(i,\"deco\",step.data)\n",
    "    i+=1"
   ]
  },
  {
   "cell_type": "code",
   "execution_count": null,
   "metadata": {},
   "outputs": [],
   "source": []
  }
 ],
 "metadata": {
  "interpreter": {
   "hash": "ecf5722fdaf1897a315d257d89d94520bfcaa453217d5becf09b39e73618b0de"
  },
  "kernelspec": {
   "display_name": "Python 3.9.5 ('base')",
   "language": "python",
   "name": "python3"
  },
  "language_info": {
   "codemirror_mode": {
    "name": "ipython",
    "version": 3
   },
   "file_extension": ".py",
   "mimetype": "text/x-python",
   "name": "python",
   "nbconvert_exporter": "python",
   "pygments_lexer": "ipython3",
   "version": "3.9.5"
  },
  "orig_nbformat": 4
 },
 "nbformat": 4,
 "nbformat_minor": 2
}
