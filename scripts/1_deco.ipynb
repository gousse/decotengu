{
 "cells": [
  {
   "cell_type": "code",
   "execution_count": 1,
   "metadata": {},
   "outputs": [],
   "source": [
    "import decotengu\n",
    "\n",
    "engine = decotengu.create()\n",
    "engine.add_gas(0,21)\n"
   ]
  },
  {
   "cell_type": "code",
   "execution_count": 9,
   "metadata": {},
   "outputs": [
    {
     "name": "stdout",
     "output_type": "stream",
     "text": [
      "default model is  <decotengu.model.ZH_L16B_GF object at 0x000001F5EAADE5E0>\n"
     ]
    }
   ],
   "source": [
    "print(\"default model is \",engine.model)\n",
    "# model :\n",
    "# decotengu.ZH_L16B_GF  default is B\n",
    "## engine.model=decotengu.ZH_L16B_GF()\n",
    "\n",
    "# use C Model ZH_L16C_GF\n",
    "# engine.model=decotengu.ZH_L16C_GF()\n",
    "\n",
    "engine.model.gf_low=0.8\n",
    "engine.model.gf_high=0.85"
   ]
  },
  {
   "cell_type": "code",
   "execution_count": 10,
   "metadata": {},
   "outputs": [],
   "source": [
    "profile = engine.calculate(35,40)"
   ]
  },
  {
   "cell_type": "code",
   "execution_count": 11,
   "metadata": {},
   "outputs": [
    {
     "name": "stdout",
     "output_type": "stream",
     "text": [
      "Step(phase=\"start\", abs_p=1.0132, time=0.0000, gf=0.8000)\n",
      "Step(phase=\"descent\", abs_p=4.5080, time=1.7500, gf=0.8000)\n",
      "Step(phase=\"const\", abs_p=4.5080, time=40.0000, gf=0.8000)\n",
      "Step(phase=\"ascent\", abs_p=1.9119, time=42.6000, gf=0.8000)\n",
      "Step(phase=\"deco_stop\", abs_p=1.9119, time=48.6000, gf=0.8000)\n",
      "Step(phase=\"ascent\", abs_p=1.6123, time=48.9000, gf=0.8167)\n",
      "Step(phase=\"deco_stop\", abs_p=1.6123, time=57.9000, gf=0.8167)\n",
      "Step(phase=\"ascent\", abs_p=1.3128, time=58.2000, gf=0.8333)\n",
      "Step(phase=\"deco_stop\", abs_p=1.3128, time=81.2000, gf=0.8333)\n",
      "Step(phase=\"ascent\", abs_p=1.0132, time=81.5000, gf=0.8500)\n"
     ]
    }
   ],
   "source": [
    "for step in profile:\n",
    "    print(step)"
   ]
  },
  {
   "cell_type": "code",
   "execution_count": 12,
   "metadata": {},
   "outputs": [
    {
     "name": "stdout",
     "output_type": "stream",
     "text": [
      "DecoStop(depth=9.0, time=6.0)\n",
      "DecoStop(depth=6.0, time=9.0)\n",
      "DecoStop(depth=3.0, time=23.0)\n"
     ]
    }
   ],
   "source": [
    "for stop in engine.deco_table:\n",
    "    print(stop)"
   ]
  },
  {
   "cell_type": "code",
   "execution_count": 13,
   "metadata": {},
   "outputs": [
    {
     "data": {
      "text/plain": [
       "38.0"
      ]
     },
     "execution_count": 13,
     "metadata": {},
     "output_type": "execute_result"
    }
   ],
   "source": [
    "engine.deco_table.total"
   ]
  },
  {
   "cell_type": "code",
   "execution_count": null,
   "metadata": {},
   "outputs": [],
   "source": []
  }
 ],
 "metadata": {
  "interpreter": {
   "hash": "ecf5722fdaf1897a315d257d89d94520bfcaa453217d5becf09b39e73618b0de"
  },
  "kernelspec": {
   "display_name": "Python 3.9.5 ('base')",
   "language": "python",
   "name": "python3"
  },
  "language_info": {
   "codemirror_mode": {
    "name": "ipython",
    "version": 3
   },
   "file_extension": ".py",
   "mimetype": "text/x-python",
   "name": "python",
   "nbconvert_exporter": "python",
   "pygments_lexer": "ipython3",
   "version": "3.9.5"
  },
  "orig_nbformat": 4
 },
 "nbformat": 4,
 "nbformat_minor": 2
}
